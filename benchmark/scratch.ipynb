{
 "cells": [
  {
   "cell_type": "code",
   "execution_count": 2,
   "id": "604075dd-920b-42d8-9184-de86352f2f96",
   "metadata": {},
   "outputs": [],
   "source": [
    "# import libraries\n",
    "import pathlib, sys\n",
    "from typing import Union\n",
    "\n",
    "import numpy as np\n",
    "from numpy.typing import ArrayLike\n",
    "import pandas as pd\n",
    "from matplotlib import pyplot as plt\n",
    "\n",
    "import scipy.optimize\n",
    "import statsmodels.tsa.interp\n",
    "import statsmodels.api as sm\n",
    "from sklearn.model_selection import GridSearchCV\n",
    "\n",
    "# import benchmark library from source\n",
    "ROOT = pathlib.Path().resolve().parent \n",
    "sys.path.append(str(ROOT))\n",
    "\n",
    "# change configuration\n",
    "np.set_printoptions(precision = 4)\n",
    "pd.set_option(\"display.max_rows\", 15)\n",
    "pd.set_option(\"display.max_columns\", 10)\n",
    "plt.rcParams[\"figure.figsize\"] = (25,10)"
   ]
  }
 ],
 "metadata": {
  "kernelspec": {
   "display_name": "python-R-environment",
   "language": "python",
   "name": "python-r-environment"
  },
  "language_info": {
   "codemirror_mode": {
    "name": "ipython",
    "version": 3
   },
   "file_extension": ".py",
   "mimetype": "text/x-python",
   "name": "python",
   "nbconvert_exporter": "python",
   "pygments_lexer": "ipython3",
   "version": "3.7.11"
  }
 },
 "nbformat": 4,
 "nbformat_minor": 5
}
