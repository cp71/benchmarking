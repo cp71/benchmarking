{
 "cells": [
  {
   "cell_type": "code",
   "execution_count": null,
   "id": "ac5baea8-39c3-437b-9fa3-fba537241637",
   "metadata": {},
   "outputs": [],
   "source": []
  }
 ],
 "metadata": {
  "kernelspec": {
   "display_name": "python-R-environment",
   "language": "python",
   "name": "python-r-environment"
  },
  "language_info": {
   "codemirror_mode": {
    "name": "ipython",
    "version": 3
   },
   "file_extension": ".py",
   "mimetype": "text/x-python",
   "name": "python",
   "nbconvert_exporter": "python",
   "pygments_lexer": "ipython3",
   "version": "3.7.11"
  }
 },
 "nbformat": 4,
 "nbformat_minor": 5
}
